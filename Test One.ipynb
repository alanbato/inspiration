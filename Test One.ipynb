{
 "cells": [
  {
   "cell_type": "code",
   "execution_count": 1,
   "metadata": {},
   "outputs": [],
   "source": [
    "%load_ext autoreload\n",
    "%autoreload 2"
   ]
  },
  {
   "cell_type": "code",
   "execution_count": 2,
   "metadata": {},
   "outputs": [],
   "source": [
    "from pathlib import Path\n",
    "from inspiration_engine import data_manipulation as dm, funct as ml"
   ]
  },
  {
   "cell_type": "markdown",
   "metadata": {},
   "source": [
    "## Data ingestion"
   ]
  },
  {
   "cell_type": "code",
   "execution_count": 3,
   "metadata": {},
   "outputs": [
    {
     "name": "stdout",
     "output_type": "stream",
     "text": [
      "['I', 'V', 'VI', 'IV']\n",
      "['I', 'VI', 'IV', 'V']\n",
      "['I', 'V', 'VI', 'III', 'IV', 'I', 'IV', 'V']\n",
      "['I', 'I', 'I', 'I', 'IV', 'IV', 'I', 'I', 'V', 'V', 'I', 'I']\n",
      "['II', 'IV', 'V']\n",
      "['V', 'IV', 'I']\n",
      "['VI', 'IV', 'I', 'V']\n",
      "['VI', 'V', 'IV', 'III']\n",
      "['VI', 'V', 'VI', 'V']\n"
     ]
    }
   ],
   "source": [
    "sample_songs = dm.parse_file(Path('inspiration_engine') / 'data' / 'Top10MostCommonPOPROCK.txt')\n",
    "for song in sample_songs: print(song)"
   ]
  },
  {
   "cell_type": "code",
   "execution_count": 19,
   "metadata": {},
   "outputs": [
    {
     "name": "stdout",
     "output_type": "stream",
     "text": [
      "Labels: [2 2 2 1 2 2 2 0 0]\n"
     ]
    }
   ],
   "source": [
    "freq_matrix = dm.get_frequency_matrix(sample_songs, universal=True)\n",
    "model = ml.clusterize(freq_matrix)\n",
    "print('Labels:', model.labels_)"
   ]
  },
  {
   "cell_type": "markdown",
   "metadata": {},
   "source": [
    "Test with different variations of the same song"
   ]
  },
  {
   "cell_type": "code",
   "execution_count": 21,
   "metadata": {},
   "outputs": [
    {
     "name": "stdout",
     "output_type": "stream",
     "text": [
      "[0 0 0 0 0 0 0]\n"
     ]
    }
   ],
   "source": [
    "test_data = [dm.parse_song('I-V-VI-{}'.format(chord)) for chord in dm.NOTES]\n",
    "test_matrix = dm.get_frequency_matrix(test_data, universal=True)\n",
    "predicted = model.predict(test_matrix)\n",
    "print(predicted)"
   ]
  },
  {
   "cell_type": "markdown",
   "metadata": {},
   "source": [
    "Test with two songs similar to the long one"
   ]
  },
  {
   "cell_type": "code",
   "execution_count": 22,
   "metadata": {},
   "outputs": [
    {
     "name": "stdout",
     "output_type": "stream",
     "text": [
      "[1 1]\n"
     ]
    }
   ],
   "source": [
    "test_long = [\n",
    "    ['I', 'I', 'I', 'I', 'IV', 'IV', 'II', 'I', 'V', 'V', 'I', 'IV'],\n",
    "    ['I', 'I', 'IV', 'IV', 'I', 'I', 'V', 'V', 'I', 'I'],\n",
    "]\n",
    "test_matrix = dm.get_frequency_matrix(test_long, universal=True)\n",
    "predicted = model.predict(test_matrix)\n",
    "print(predicted)"
   ]
  }
 ],
 "metadata": {
  "kernelspec": {
   "display_name": "Python 3",
   "language": "python",
   "name": "python3"
  },
  "language_info": {
   "codemirror_mode": {
    "name": "ipython",
    "version": 3
   },
   "file_extension": ".py",
   "mimetype": "text/x-python",
   "name": "python",
   "nbconvert_exporter": "python",
   "pygments_lexer": "ipython3",
   "version": "3.7.0"
  }
 },
 "nbformat": 4,
 "nbformat_minor": 2
}
